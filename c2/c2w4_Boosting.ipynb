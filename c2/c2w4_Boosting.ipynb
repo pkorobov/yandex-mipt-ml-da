{
 "cells": [
  {
   "cell_type": "code",
   "execution_count": 138,
   "metadata": {},
   "outputs": [],
   "source": [
    "from sklearn.datasets import load_boston\n",
    "from sklearn.model_selection import train_test_split\n",
    "from sklearn.tree import DecisionTreeRegressor\n",
    "from sklearn.metrics import mean_squared_error\n",
    "import numpy as np"
   ]
  },
  {
   "cell_type": "code",
   "execution_count": 46,
   "metadata": {},
   "outputs": [],
   "source": [
    "boston = load_boston()"
   ]
  },
  {
   "cell_type": "code",
   "execution_count": 117,
   "metadata": {},
   "outputs": [],
   "source": [
    "X, y = boston.data, boston.target"
   ]
  },
  {
   "cell_type": "code",
   "execution_count": 119,
   "metadata": {},
   "outputs": [
    {
     "data": {
      "text/plain": [
       "(506, 13)"
      ]
     },
     "execution_count": 119,
     "metadata": {},
     "output_type": "execute_result"
    }
   ],
   "source": [
    "X.shape"
   ]
  },
  {
   "cell_type": "code",
   "execution_count": 194,
   "metadata": {},
   "outputs": [],
   "source": [
    "X_train, X_test, y_train, y_test = train_test_split(X, y, test_size=0.25, shuffle=False)"
   ]
  },
  {
   "cell_type": "code",
   "execution_count": 199,
   "metadata": {},
   "outputs": [],
   "source": [
    "#delim = int(y.shape[0] * 0.75)\n",
    "#X_train, X_test = X[:delim, :], X[delim:, :]\n",
    "#y_train, y_test = y[:delim], y[delim:]"
   ]
  },
  {
   "cell_type": "code",
   "execution_count": 171,
   "metadata": {},
   "outputs": [],
   "source": [
    "def derivative(y, z):\n",
    "    l = y.shape[0]\n",
    "    return (z - y)"
   ]
  },
  {
   "cell_type": "code",
   "execution_count": null,
   "metadata": {},
   "outputs": [],
   "source": []
  },
  {
   "cell_type": "code",
   "execution_count": 172,
   "metadata": {},
   "outputs": [],
   "source": [
    "def gbm_predict(X):\n",
    "    return [\n",
    "        sum([coeff * algo.predict([x])[0] \n",
    "        for algo, coeff in zip(base_algorithms_list, coefficients_list)]) for x in X\n",
    "        ]"
   ]
  },
  {
   "cell_type": "code",
   "execution_count": 173,
   "metadata": {},
   "outputs": [
    {
     "name": "stdout",
     "output_type": "stream",
     "text": [
      "3.5116385715360714\n",
      "0.3820670062886278\n",
      "0.091835715458719\n",
      "0.02839183947273101\n",
      "0.008107473713643353\n",
      "0.002584474299324061\n"
     ]
    }
   ],
   "source": [
    "base_algorithms_list = []\n",
    "coefficients_list = []\n",
    "\n",
    "target = y_train\n",
    "\n",
    "for i in range(50):\n",
    "    estimator = DecisionTreeRegressor(max_depth=5, random_state=42)\n",
    "    estimator.fit(X_train, target)\n",
    "    base_algorithms_list.append(estimator)\n",
    "    coefficients_list.append(0.9)\n",
    "    target = -derivative(y_train, gbm_predict(X_train))\n",
    "    if i % 10 == 0:\n",
    "        print(mean_squared_error(y_train, gbm_predict(X_train)) ** 0.5)\n",
    "print(mean_squared_error(y_train, gbm_predict(X_train)) ** 0.5)"
   ]
  },
  {
   "cell_type": "code",
   "execution_count": 174,
   "metadata": {},
   "outputs": [
    {
     "data": {
      "text/plain": [
       "5.455565103009402"
      ]
     },
     "execution_count": 174,
     "metadata": {},
     "output_type": "execute_result"
    }
   ],
   "source": [
    "ans = mean_squared_error(y_test, gbm_predict(X_test)) ** 0.5\n",
    "with open('boosting2.txt', 'w') as f:\n",
    "    f.write(str(ans))\n",
    "ans"
   ]
  },
  {
   "cell_type": "code",
   "execution_count": 175,
   "metadata": {},
   "outputs": [
    {
     "name": "stdout",
     "output_type": "stream",
     "text": [
      "3.5116385715360714\n",
      "1.2647753975986\n",
      "1.0741774556748842\n",
      "0.9990612946079998\n",
      "0.9551179008876733\n",
      "0.9282663207292292\n"
     ]
    },
    {
     "data": {
      "text/plain": [
       "4.812550945781193"
      ]
     },
     "execution_count": 175,
     "metadata": {},
     "output_type": "execute_result"
    }
   ],
   "source": [
    "base_algorithms_list = []\n",
    "coefficients_list = []\n",
    "\n",
    "target = y_train\n",
    "\n",
    "for i in range(50):\n",
    "    estimator = DecisionTreeRegressor(max_depth=5, random_state=42)\n",
    "    estimator.fit(X_train, target)\n",
    "    base_algorithms_list.append(estimator)\n",
    "    coefficients_list.append(0.9 / (1.0 + i))\n",
    "    target = -derivative(y_train, gbm_predict(X_train))\n",
    "    if i % 10 == 0:\n",
    "        print(mean_squared_error(y_train, gbm_predict(X_train)) ** 0.5)\n",
    "print(mean_squared_error(y_train, gbm_predict(X_train)) ** 0.5)\n",
    "\n",
    "ans = mean_squared_error(y_test, gbm_predict(X_test)) ** 0.5\n",
    "with open('boosting3.txt', 'w') as f:\n",
    "    f.write(str(ans))\n",
    "ans"
   ]
  },
  {
   "cell_type": "code",
   "execution_count": 176,
   "metadata": {},
   "outputs": [],
   "source": [
    "import xgboost as xgb\n",
    "\n",
    "def xgb_estimators_score(x):\n",
    "    estim = xgb.XGBRegressor(max_depth=5, random_state=42, n_estimators=x)\n",
    "    estim.fit(X_train, y_train)\n",
    "    return mean_squared_error(y_test, estim.predict(X_test))"
   ]
  },
  {
   "cell_type": "code",
   "execution_count": 177,
   "metadata": {},
   "outputs": [],
   "source": [
    "%matplotlib inline\n",
    "import matplotlib.pyplot as plt"
   ]
  },
  {
   "cell_type": "code",
   "execution_count": 178,
   "metadata": {},
   "outputs": [
    {
     "name": "stdout",
     "output_type": "stream",
     "text": [
      "CPU times: user 540 ms, sys: 0 ns, total: 540 ms\n",
      "Wall time: 539 ms\n"
     ]
    },
    {
     "data": {
      "image/png": "[encoded data removed]",
      "text/plain": [
       "<matplotlib.figure.Figure at 0x7f94a3cf44e0>"
      ]
     },
     "metadata": {},
     "output_type": "display_data"
    }
   ],
   "source": [
    "%%time\n",
    "n_estimators = np.arange(5, 101, 5)\n",
    "plt.plot(n_estimators, list(map(xgb_estimators_score, n_estimators)))"
   ]
  },
  {
   "cell_type": "code",
   "execution_count": 179,
   "metadata": {},
   "outputs": [],
   "source": [
    "def xgb_depth_score(x):\n",
    "    estim = xgb.XGBRegressor(max_depth=x, random_state=42, n_estimators=50)\n",
    "    estim.fit(X_train, y_train)\n",
    "    return mean_squared_error(y_test, estim.predict(X_test))"
   ]
  },
  {
   "cell_type": "code",
   "execution_count": 180,
   "metadata": {},
   "outputs": [
    {
     "name": "stdout",
     "output_type": "stream",
     "text": [
      "CPU times: user 1.74 s, sys: 4.01 ms, total: 1.75 s\n",
      "Wall time: 1.75 s\n"
     ]
    },
    {
     "data": {
      "image/png": "[encoded data removed]",
      "text/plain": [
       "<matplotlib.figure.Figure at 0x7f94a38d9240>"
      ]
     },
     "metadata": {},
     "output_type": "display_data"
    }
   ],
   "source": [
    "%%time\n",
    "depths = np.arange(1, 40)\n",
    "plt.plot(depths, list(map(xgb_depth_score, depths)))"
   ]
  },
  {
   "cell_type": "code",
   "execution_count": 181,
   "metadata": {},
   "outputs": [],
   "source": [
    "with open('boosting4.txt', 'w') as f:\n",
    "    f.write('2 3')"
   ]
  },
  {
   "cell_type": "code",
   "execution_count": 198,
   "metadata": {},
   "outputs": [
    {
     "data": {
      "text/plain": [
       "8.254979753549158"
      ]
     },
     "execution_count": 198,
     "metadata": {},
     "output_type": "execute_result"
    }
   ],
   "source": [
    "from sklearn.linear_model import LinearRegression\n",
    "\n",
    "regressor = LinearRegression()\n",
    "regressor.fit(X_train, y_train)\n",
    "ans = mean_squared_error(y_test, regressor.predict(X_test)) ** 0.5\n",
    "\n",
    "with open('boosting5.txt', 'w') as f:\n",
    "    f.write(str(ans))\n",
    "ans"
   ]
  },
  {
   "cell_type": "code",
   "execution_count": null,
   "metadata": {},
   "outputs": [],
   "source": []
  }
 ],
 "metadata": {
  "kernelspec": {
   "display_name": "Python 3",
   "language": "python",
   "name": "python3"
  },
  "language_info": {
   "codemirror_mode": {
    "name": "ipython",
    "version": 3
   },
   "file_extension": ".py",
   "mimetype": "text/x-python",
   "name": "python",
   "nbconvert_exporter": "python",
   "pygments_lexer": "ipython3",
   "version": "3.6.4"
  }
 },
 "nbformat": 4,
 "nbformat_minor": 2
}
