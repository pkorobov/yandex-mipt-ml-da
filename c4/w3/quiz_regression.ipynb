{
 "cells": [
  {
   "cell_type": "code",
   "execution_count": 406,
   "metadata": {},
   "outputs": [],
   "source": [
    "import pandas as pd\n",
    "import math"
   ]
  },
  {
   "cell_type": "code",
   "execution_count": 407,
   "metadata": {},
   "outputs": [],
   "source": [
    "df = pd.read_csv('botswana.tsv', sep='\\t')"
   ]
  },
  {
   "cell_type": "code",
   "execution_count": 408,
   "metadata": {},
   "outputs": [
    {
     "data": {
      "text/plain": [
       "array(['catholic', 'protestant', 'spirit', 'other'], dtype=object)"
      ]
     },
     "execution_count": 408,
     "metadata": {},
     "output_type": "execute_result"
    }
   ],
   "source": [
    "# 1\n",
    "\n",
    "df['religion'].unique()"
   ]
  },
  {
   "cell_type": "code",
   "execution_count": 409,
   "metadata": {},
   "outputs": [
    {
     "data": {
      "text/plain": [
       "1834"
      ]
     },
     "execution_count": 409,
     "metadata": {},
     "output_type": "execute_result"
    }
   ],
   "source": [
    "# 2\n",
    "\n",
    "df.dropna().shape[0]"
   ]
  },
  {
   "cell_type": "code",
   "execution_count": 410,
   "metadata": {},
   "outputs": [],
   "source": [
    "# 3\n",
    "\n",
    "df['nevermarr'] = df['agefm'].isna()\n",
    "df = df.drop('evermarr', axis = 1)"
   ]
  },
  {
   "cell_type": "code",
   "execution_count": 411,
   "metadata": {},
   "outputs": [
    {
     "data": {
      "text/plain": [
       "123"
      ]
     },
     "execution_count": 411,
     "metadata": {},
     "output_type": "execute_result"
    }
   ],
   "source": [
    "df['agefm'] = df['agefm'].fillna(0)\n",
    "df.loc[df.index[df['nevermarr'] == 1], 'heduc'] = df.loc[(df['nevermarr'] == 1).index, 'heduc'].fillna(-1)\n",
    "df['heduc'].isna().sum()"
   ]
  },
  {
   "cell_type": "code",
   "execution_count": 412,
   "metadata": {},
   "outputs": [],
   "source": [
    "# 4\n",
    "\n",
    "df['idlnchld_noans'] = df['idlnchld'].isna()\n",
    "df['heduc_noans'] = df['heduc'].isna()\n",
    "df['usemeth_noans'] = df['usemeth'].isna()"
   ]
  },
  {
   "cell_type": "code",
   "execution_count": 413,
   "metadata": {},
   "outputs": [],
   "source": [
    "df.loc[df.index[df['idlnchld_noans'] == 1], 'idlnchld'] = -1\n",
    "df.loc[df.index[df['heduc_noans'] == 1], 'heduc'] = -2\n",
    "df.loc[df.index[df['usemeth_noans'] == 1], 'usemeth'] = -1"
   ]
  },
  {
   "cell_type": "code",
   "execution_count": 414,
   "metadata": {},
   "outputs": [
    {
     "data": {
      "text/plain": [
       "{'bicycle', 'electric', 'knowmeth', 'radio', 'tv'}"
      ]
     },
     "execution_count": 414,
     "metadata": {},
     "output_type": "execute_result"
    }
   ],
   "source": [
    "set(df.columns) - set(df.dropna(axis=1).columns)"
   ]
  },
  {
   "cell_type": "code",
   "execution_count": 415,
   "metadata": {},
   "outputs": [],
   "source": [
    "df = df.dropna()"
   ]
  },
  {
   "cell_type": "code",
   "execution_count": 416,
   "metadata": {},
   "outputs": [
    {
     "data": {
      "text/plain": [
       "78264"
      ]
     },
     "execution_count": 416,
     "metadata": {},
     "output_type": "execute_result"
    }
   ],
   "source": [
    "df.shape[0] * df.shape[1]"
   ]
  },
  {
   "cell_type": "code",
   "execution_count": 403,
   "metadata": {},
   "outputs": [],
   "source": [
    "# 5 6\n",
    "\n",
    "import statsmodels.formula.api as smf"
   ]
  },
  {
   "cell_type": "code",
   "execution_count": 404,
   "metadata": {},
   "outputs": [
    {
     "data": {
      "text/plain": [
       "'age + educ + religion + idlnchld + knowmeth + usemeth + agefm + heduc + urban + electric + radio + tv + bicycle + nevermarr + idlnchld_noans + heduc_noans + usemeth_noans'"
      ]
     },
     "execution_count": 404,
     "metadata": {},
     "output_type": "execute_result"
    }
   ],
   "source": [
    "' + '.join(df.columns[1:])"
   ]
  },
  {
   "cell_type": "code",
   "execution_count": 417,
   "metadata": {},
   "outputs": [
    {
     "name": "stdout",
     "output_type": "stream",
     "text": [
      "                            OLS Regression Results                            \n",
      "==============================================================================\n",
      "Dep. Variable:                    ceb   R-squared:                       0.644\n",
      "Model:                            OLS   Adj. R-squared:                  0.643\n",
      "Method:                 Least Squares   F-statistic:                     412.5\n",
      "Date:                Fri, 30 Aug 2019   Prob (F-statistic):               0.00\n",
      "Time:                        05:03:07   Log-Likelihood:                -7732.1\n",
      "No. Observations:                4348   AIC:                         1.550e+04\n",
      "Df Residuals:                    4328   BIC:                         1.563e+04\n",
      "Df Model:                          19                                         \n",
      "Covariance Type:            nonrobust                                         \n",
      "==========================================================================================\n",
      "                             coef    std err          t      P>|t|      [0.025      0.975]\n",
      "------------------------------------------------------------------------------------------\n",
      "Intercept                 -1.0263      0.212     -4.835      0.000      -1.443      -0.610\n",
      "religion[T.other]         -0.0830      0.083     -1.001      0.317      -0.245       0.080\n",
      "religion[T.protestant]    -0.0149      0.082     -0.181      0.857      -0.176       0.146\n",
      "religion[T.spirit]        -0.0191      0.077     -0.248      0.804      -0.171       0.132\n",
      "nevermarr[T.True]         -2.2393      0.148    -15.143      0.000      -2.529      -1.949\n",
      "idlnchld_noans[T.True]     0.6539      0.153      4.286      0.000       0.355       0.953\n",
      "heduc_noans[T.True]       -0.8724      0.145     -6.026      0.000      -1.156      -0.589\n",
      "usemeth_noans[T.True]      0.7652      0.196      3.910      0.000       0.382       1.149\n",
      "age                        0.1703      0.003     51.891      0.000       0.164       0.177\n",
      "educ                      -0.0724      0.007     -9.843      0.000      -0.087      -0.058\n",
      "idlnchld                   0.0760      0.011      6.923      0.000       0.054       0.098\n",
      "knowmeth                   0.5564      0.121      4.580      0.000       0.318       0.795\n",
      "usemeth                    0.6473      0.048     13.424      0.000       0.553       0.742\n",
      "agefm                     -0.0604      0.007     -9.213      0.000      -0.073      -0.048\n",
      "heduc                     -0.0551      0.008     -6.838      0.000      -0.071      -0.039\n",
      "urban                     -0.2137      0.047     -4.527      0.000      -0.306      -0.121\n",
      "electric                  -0.2685      0.077     -3.479      0.001      -0.420      -0.117\n",
      "radio                     -0.0235      0.051     -0.461      0.645      -0.123       0.076\n",
      "tv                        -0.1451      0.093     -1.566      0.118      -0.327       0.037\n",
      "bicycle                    0.2139      0.050      4.260      0.000       0.115       0.312\n",
      "==============================================================================\n",
      "Omnibus:                      224.411   Durbin-Watson:                   1.887\n",
      "Prob(Omnibus):                  0.000   Jarque-Bera (JB):              859.014\n",
      "Skew:                           0.003   Prob(JB):                    2.93e-187\n",
      "Kurtosis:                       5.178   Cond. No.                         361.\n",
      "==============================================================================\n",
      "\n",
      "Warnings:\n",
      "[1] Standard Errors assume that the covariance matrix of the errors is correctly specified.\n"
     ]
    }
   ],
   "source": [
    "model = smf.ols('ceb ~ age + educ + religion + idlnchld + knowmeth + usemeth'\\\n",
    "                '+ agefm + heduc + urban + electric + radio + tv + bicycle +'\\\n",
    "                'nevermarr + idlnchld_noans + heduc_noans + usemeth_noans', data=df)\n",
    "fitted = model.fit()\n",
    "print(fitted.summary())"
   ]
  },
  {
   "cell_type": "code",
   "execution_count": 418,
   "metadata": {},
   "outputs": [],
   "source": [
    "# 7\n",
    "\n",
    "import statsmodels.stats.api as sms"
   ]
  },
  {
   "cell_type": "code",
   "execution_count": 419,
   "metadata": {},
   "outputs": [
    {
     "data": {
      "text/plain": [
       "1.1452927633445016e-225"
      ]
     },
     "execution_count": 419,
     "metadata": {},
     "output_type": "execute_result"
    }
   ],
   "source": [
    "sms.het_breuschpagan(fitted.resid, fitted.model.exog)[1]"
   ]
  },
  {
   "cell_type": "code",
   "execution_count": 250,
   "metadata": {},
   "outputs": [],
   "source": [
    "# гетероскедастична, так что сделаем поправку\n",
    "model2 = smf.ols('ceb ~' + ' + '.join(df.columns[1:]), data=df)\n",
    "fitted2 = model2.fit(cov_type='HC1')\n",
    "# print(fitted2.summary())"
   ]
  },
  {
   "cell_type": "code",
   "execution_count": 420,
   "metadata": {},
   "outputs": [
    {
     "name": "stdout",
     "output_type": "stream",
     "text": [
      "1.1197458896536614e-228\n",
      "                            OLS Regression Results                            \n",
      "==============================================================================\n",
      "Dep. Variable:                    ceb   R-squared:                       0.644\n",
      "Model:                            OLS   Adj. R-squared:                  0.643\n",
      "Method:                 Least Squares   F-statistic:                     559.5\n",
      "Date:                Fri, 30 Aug 2019   Prob (F-statistic):               0.00\n",
      "Time:                        05:03:31   Log-Likelihood:                -7734.5\n",
      "No. Observations:                4348   AIC:                         1.550e+04\n",
      "Df Residuals:                    4333   BIC:                         1.559e+04\n",
      "Df Model:                          14                                         \n",
      "Covariance Type:            nonrobust                                         \n",
      "==========================================================================================\n",
      "                             coef    std err          t      P>|t|      [0.025      0.975]\n",
      "------------------------------------------------------------------------------------------\n",
      "Intercept                 -1.0698      0.198     -5.393      0.000      -1.459      -0.681\n",
      "nevermarr[T.True]         -2.2501      0.148    -15.231      0.000      -2.540      -1.961\n",
      "idlnchld_noans[T.True]     0.6565      0.152      4.310      0.000       0.358       0.955\n",
      "heduc_noans[T.True]       -0.8853      0.145     -6.122      0.000      -1.169      -0.602\n",
      "usemeth_noans[T.True]      0.7732      0.196      3.955      0.000       0.390       1.156\n",
      "age                        0.1702      0.003     52.271      0.000       0.164       0.177\n",
      "educ                      -0.0729      0.007    -10.285      0.000      -0.087      -0.059\n",
      "idlnchld                   0.0770      0.011      7.042      0.000       0.056       0.098\n",
      "knowmeth                   0.5610      0.121      4.628      0.000       0.323       0.799\n",
      "usemeth                    0.6516      0.048     13.537      0.000       0.557       0.746\n",
      "agefm                     -0.0606      0.007     -9.240      0.000      -0.073      -0.048\n",
      "heduc                     -0.0573      0.008     -7.186      0.000      -0.073      -0.042\n",
      "urban                     -0.2190      0.047     -4.682      0.000      -0.311      -0.127\n",
      "electric                  -0.3207      0.070     -4.584      0.000      -0.458      -0.184\n",
      "bicycle                    0.2046      0.049      4.154      0.000       0.108       0.301\n",
      "==============================================================================\n",
      "Omnibus:                      224.096   Durbin-Watson:                   1.886\n",
      "Prob(Omnibus):                  0.000   Jarque-Bera (JB):              856.760\n",
      "Skew:                           0.004   Prob(JB):                    9.06e-187\n",
      "Kurtosis:                       5.175   Cond. No.                         345.\n",
      "==============================================================================\n",
      "\n",
      "Warnings:\n",
      "[1] Standard Errors assume that the covariance matrix of the errors is correctly specified.\n"
     ]
    }
   ],
   "source": [
    "# 8\n",
    "\n",
    "model3 = smf.ols('ceb ~' + 'age + educ + idlnchld + knowmeth '\\\n",
    "                '+ usemeth + agefm + heduc + urban + electric +'\\\n",
    "                'bicycle + nevermarr + idlnchld_noans +'\\\n",
    "                'heduc_noans + usemeth_noans', data=df)\n",
    "fitted3 = model3.fit()\n",
    "print(sms.het_breuschpagan(fitted3.resid, fitted3.model.exog)[1])\n",
    "print(fitted3.summary())"
   ]
  },
  {
   "cell_type": "code",
   "execution_count": null,
   "metadata": {},
   "outputs": [],
   "source": []
  },
  {
   "cell_type": "code",
   "execution_count": 421,
   "metadata": {},
   "outputs": [
    {
     "name": "stdout",
     "output_type": "stream",
     "text": [
      "                            OLS Regression Results                            \n",
      "==============================================================================\n",
      "Dep. Variable:                    ceb   R-squared:                       0.644\n",
      "Model:                            OLS   Adj. R-squared:                  0.643\n",
      "Method:                 Least Squares   F-statistic:                     463.4\n",
      "Date:                Fri, 30 Aug 2019   Prob (F-statistic):               0.00\n",
      "Time:                        05:03:51   Log-Likelihood:                -7734.5\n",
      "No. Observations:                4348   AIC:                         1.550e+04\n",
      "Df Residuals:                    4333   BIC:                         1.559e+04\n",
      "Df Model:                          14                                         \n",
      "Covariance Type:                  HC1                                         \n",
      "==========================================================================================\n",
      "                             coef    std err          z      P>|z|      [0.025      0.975]\n",
      "------------------------------------------------------------------------------------------\n",
      "Intercept                 -1.0698      0.258     -4.152      0.000      -1.575      -0.565\n",
      "nevermarr[T.True]         -2.2501      0.202    -11.158      0.000      -2.645      -1.855\n",
      "idlnchld_noans[T.True]     0.6565      0.216      3.043      0.002       0.234       1.079\n",
      "heduc_noans[T.True]       -0.8853      0.191     -4.638      0.000      -1.259      -0.511\n",
      "usemeth_noans[T.True]      0.7732      0.212      3.639      0.000       0.357       1.190\n",
      "age                        0.1702      0.004     38.746      0.000       0.162       0.179\n",
      "educ                      -0.0729      0.007    -10.311      0.000      -0.087      -0.059\n",
      "idlnchld                   0.0770      0.014      5.323      0.000       0.049       0.105\n",
      "knowmeth                   0.5610      0.174      3.224      0.001       0.220       0.902\n",
      "usemeth                    0.6516      0.052     12.571      0.000       0.550       0.753\n",
      "agefm                     -0.0606      0.010     -6.192      0.000      -0.080      -0.041\n",
      "heduc                     -0.0573      0.009     -6.440      0.000      -0.075      -0.040\n",
      "urban                     -0.2190      0.045     -4.814      0.000      -0.308      -0.130\n",
      "electric                  -0.3207      0.063     -5.076      0.000      -0.445      -0.197\n",
      "bicycle                    0.2046      0.048      4.279      0.000       0.111       0.298\n",
      "==============================================================================\n",
      "Omnibus:                      224.096   Durbin-Watson:                   1.886\n",
      "Prob(Omnibus):                  0.000   Jarque-Bera (JB):              856.760\n",
      "Skew:                           0.004   Prob(JB):                    9.06e-187\n",
      "Kurtosis:                       5.175   Cond. No.                         345.\n",
      "==============================================================================\n",
      "\n",
      "Warnings:\n",
      "[1] Standard Errors are heteroscedasticity robust (HC1)\n"
     ]
    }
   ],
   "source": [
    "fitted3 = model3.fit(cov_type='HC1')\n",
    "print(fitted3.summary())"
   ]
  },
  {
   "cell_type": "code",
   "execution_count": 422,
   "metadata": {},
   "outputs": [
    {
     "name": "stderr",
     "output_type": "stream",
     "text": [
      "/home/korobov/.local/lib/python3.6/site-packages/statsmodels/regression/linear_model.py:2018: InvalidTestWarning: F test for comparison is likely invalid with robust covariance, proceeding anyway\n",
      "  InvalidTestWarning)\n"
     ]
    },
    {
     "data": {
      "text/plain": [
       "(0.9192357784629898, 0.4672305547275616, 5.0)"
      ]
     },
     "execution_count": 422,
     "metadata": {},
     "output_type": "execute_result"
    }
   ],
   "source": [
    "model.fit(cov_type='HC1').compare_f_test(model3.fit(cov_type='HC1'))"
   ]
  },
  {
   "cell_type": "code",
   "execution_count": 423,
   "metadata": {},
   "outputs": [
    {
     "name": "stdout",
     "output_type": "stream",
     "text": [
      "                            OLS Regression Results                            \n",
      "==============================================================================\n",
      "Dep. Variable:                    ceb   R-squared:                       0.629\n",
      "Model:                            OLS   Adj. R-squared:                  0.628\n",
      "Method:                 Least Squares   F-statistic:                     611.3\n",
      "Date:                Fri, 30 Aug 2019   Prob (F-statistic):               0.00\n",
      "Time:                        05:09:15   Log-Likelihood:                -7825.7\n",
      "No. Observations:                4348   AIC:                         1.568e+04\n",
      "Df Residuals:                    4335   BIC:                         1.576e+04\n",
      "Df Model:                          12                                         \n",
      "Covariance Type:            nonrobust                                         \n",
      "==========================================================================================\n",
      "                             coef    std err          t      P>|t|      [0.025      0.975]\n",
      "------------------------------------------------------------------------------------------\n",
      "Intercept                 -1.1931      0.202     -5.897      0.000      -1.590      -0.796\n",
      "nevermarr[T.True]         -2.3625      0.150    -15.707      0.000      -2.657      -2.068\n",
      "idlnchld_noans[T.True]     0.5266      0.155      3.393      0.001       0.222       0.831\n",
      "heduc_noans[T.True]       -0.7947      0.147     -5.389      0.000      -1.084      -0.506\n",
      "age                        0.1776      0.003     54.368      0.000       0.171       0.184\n",
      "educ                      -0.0560      0.007     -7.862      0.000      -0.070      -0.042\n",
      "idlnchld                   0.0705      0.011      6.317      0.000       0.049       0.092\n",
      "knowmeth                   0.8739      0.121      7.203      0.000       0.636       1.112\n",
      "agefm                     -0.0649      0.007     -9.716      0.000      -0.078      -0.052\n",
      "heduc                     -0.0521      0.008     -6.411      0.000      -0.068      -0.036\n",
      "urban                     -0.1866      0.048     -3.917      0.000      -0.280      -0.093\n",
      "electric                  -0.3218      0.071     -4.505      0.000      -0.462      -0.182\n",
      "bicycle                    0.1979      0.050      3.935      0.000       0.099       0.296\n",
      "==============================================================================\n",
      "Omnibus:                      250.641   Durbin-Watson:                   1.910\n",
      "Prob(Omnibus):                  0.000   Jarque-Bera (JB):              936.515\n",
      "Skew:                          -0.158   Prob(JB):                    4.35e-204\n",
      "Kurtosis:                       5.251   Cond. No.                         345.\n",
      "==============================================================================\n",
      "\n",
      "Warnings:\n",
      "[1] Standard Errors assume that the covariance matrix of the errors is correctly specified.\n"
     ]
    }
   ],
   "source": [
    "# 9\n",
    "\n",
    "model4 = smf.ols('ceb ~' + 'age + educ + idlnchld + knowmeth'\\\n",
    "                ' + agefm + heduc + urban + electric'\\\n",
    "                '+ bicycle + nevermarr + idlnchld_noans'\\\n",
    "                '+ heduc_noans', data=df)\n",
    "fitted4 = model4.fit()\n",
    "print(fitted4.summary())"
   ]
  },
  {
   "cell_type": "code",
   "execution_count": 425,
   "metadata": {},
   "outputs": [
    {
     "data": {
      "text/plain": [
       "(92.89058230109576, 3.1552009480442536e-40, 2.0)"
      ]
     },
     "execution_count": 425,
     "metadata": {},
     "output_type": "execute_result"
    }
   ],
   "source": [
    "model3.fit().compare_f_test(model4.fit())"
   ]
  },
  {
   "cell_type": "code",
   "execution_count": 281,
   "metadata": {},
   "outputs": [
    {
     "name": "stdout",
     "output_type": "stream",
     "text": [
      "2.116258392118538e-217\n"
     ]
    }
   ],
   "source": [
    "# 10\n",
    "\n",
    "print(sms.het_breuschpagan(fitted4.resid, fitted4.model.exog)[1])\n"
   ]
  },
  {
   "cell_type": "code",
   "execution_count": 283,
   "metadata": {},
   "outputs": [
    {
     "name": "stdout",
     "output_type": "stream",
     "text": [
      "                            OLS Regression Results                            \n",
      "==============================================================================\n",
      "Dep. Variable:                    ceb   R-squared:                       0.621\n",
      "Model:                            OLS   Adj. R-squared:                  0.620\n",
      "Method:                 Least Squares   F-statistic:                     872.6\n",
      "Date:                Fri, 30 Aug 2019   Prob (F-statistic):               0.00\n",
      "Time:                        04:18:53   Log-Likelihood:                -7867.4\n",
      "No. Observations:                4348   AIC:                         1.576e+04\n",
      "Df Residuals:                    4333   BIC:                         1.586e+04\n",
      "Df Model:                          14                                         \n",
      "Covariance Type:                  HC1                                         \n",
      "==========================================================================================\n",
      "                             coef    std err          z      P>|z|      [0.025      0.975]\n",
      "------------------------------------------------------------------------------------------\n",
      "Intercept                 -0.3067      0.032     -9.571      0.000      -0.370      -0.244\n",
      "religion[T.other]         -0.1182      0.080     -1.483      0.138      -0.274       0.038\n",
      "religion[T.protestant]    -0.0182      0.079     -0.230      0.818      -0.174       0.137\n",
      "religion[T.spirit]        -0.0176      0.073     -0.243      0.808      -0.160       0.125\n",
      "nevermarr[T.True]         -1.2125      0.096    -12.673      0.000      -1.400      -1.025\n",
      "idlnchld_noans[T.True]     0.1069      0.208      0.514      0.607      -0.301       0.515\n",
      "heduc_noans[T.True]        0.9058      0.107      8.445      0.000       0.696       1.116\n",
      "age                        0.1814      0.004     42.154      0.000       0.173       0.190\n",
      "educ                      -0.0767      0.007    -10.964      0.000      -0.090      -0.063\n",
      "idlnchld                   0.3067      0.032      9.571      0.000       0.244       0.370\n",
      "knowmeth                   0.8474      0.171      4.967      0.000       0.513       1.182\n",
      "agefm                     -0.0685      0.010     -6.851      0.000      -0.088      -0.049\n",
      "heduc                      0.6134      0.064      9.571      0.000       0.488       0.739\n",
      "urban                     -0.2213      0.047     -4.696      0.000      -0.314      -0.129\n",
      "electric                  -0.3273      0.076     -4.321      0.000      -0.476      -0.179\n",
      "radio                     -0.0160      0.054     -0.295      0.768      -0.122       0.090\n",
      "tv                        -0.2945      0.085     -3.451      0.001      -0.462      -0.127\n",
      "bicycle                    0.2092      0.050      4.195      0.000       0.111       0.307\n",
      "==============================================================================\n",
      "Omnibus:                      231.894   Durbin-Watson:                   1.893\n",
      "Prob(Omnibus):                  0.000   Jarque-Bera (JB):              869.106\n",
      "Skew:                          -0.099   Prob(JB):                    1.89e-189\n",
      "Kurtosis:                       5.181   Cond. No.                     4.17e+18\n",
      "==============================================================================\n",
      "\n",
      "Warnings:\n",
      "[1] Standard Errors are heteroscedasticity robust (HC1)\n",
      "[2] The smallest eigenvalue is 2.49e-31. This might indicate that there are\n",
      "strong multicollinearity problems or that the design matrix is singular.\n"
     ]
    },
    {
     "name": "stderr",
     "output_type": "stream",
     "text": [
      "/home/korobov/.local/lib/python3.6/site-packages/statsmodels/base/model.py:1752: ValueWarning: covariance of constraints does not have full rank. The number of constraints is 17, but rank is 15\n",
      "  'rank is %d' % (J, J_), ValueWarning)\n"
     ]
    }
   ],
   "source": [
    "print(model4.fit(cov_type='HC1').summary())"
   ]
  },
  {
   "cell_type": "code",
   "execution_count": null,
   "metadata": {},
   "outputs": [],
   "source": [
    "3 5 8 9 10"
   ]
  }
 ],
 "metadata": {
  "kernelspec": {
   "display_name": "Python 3",
   "language": "python",
   "name": "python3"
  },
  "language_info": {
   "codemirror_mode": {
    "name": "ipython",
    "version": 3
   },
   "file_extension": ".py",
   "mimetype": "text/x-python",
   "name": "python",
   "nbconvert_exporter": "python",
   "pygments_lexer": "ipython3",
   "version": "3.6.8"
  }
 },
 "nbformat": 4,
 "nbformat_minor": 2
}
