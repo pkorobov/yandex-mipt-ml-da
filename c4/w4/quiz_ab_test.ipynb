{
 "cells": [
  {
   "cell_type": "code",
   "execution_count": 45,
   "metadata": {},
   "outputs": [],
   "source": [
    "import pandas as pd\n",
    "import scipy.stats\n",
    "import numpy as np\n",
    "import seaborn as sns\n",
    "import matplotlib.pyplot as plt\n",
    "\n",
    "%matplotlib inline"
   ]
  },
  {
   "cell_type": "code",
   "execution_count": 2,
   "metadata": {},
   "outputs": [
    {
     "data": {
      "text/html": [
       "<div>\n",
       "<style scoped>\n",
       "    .dataframe tbody tr th:only-of-type {\n",
       "        vertical-align: middle;\n",
       "    }\n",
       "\n",
       "    .dataframe tbody tr th {\n",
       "        vertical-align: top;\n",
       "    }\n",
       "\n",
       "    .dataframe thead th {\n",
       "        text-align: right;\n",
       "    }\n",
       "</style>\n",
       "<table border=\"1\" class=\"dataframe\">\n",
       "  <thead>\n",
       "    <tr style=\"text-align: right;\">\n",
       "      <th></th>\n",
       "      <th>userID</th>\n",
       "      <th>browser</th>\n",
       "      <th>slot</th>\n",
       "      <th>n_clicks</th>\n",
       "      <th>n_queries</th>\n",
       "      <th>n_nonclk_queries</th>\n",
       "    </tr>\n",
       "  </thead>\n",
       "  <tbody>\n",
       "    <tr>\n",
       "      <th>0</th>\n",
       "      <td>1</td>\n",
       "      <td>Browser #2</td>\n",
       "      <td>exp</td>\n",
       "      <td>23</td>\n",
       "      <td>32</td>\n",
       "      <td>19</td>\n",
       "    </tr>\n",
       "    <tr>\n",
       "      <th>1</th>\n",
       "      <td>3</td>\n",
       "      <td>Browser #4</td>\n",
       "      <td>exp</td>\n",
       "      <td>3</td>\n",
       "      <td>4</td>\n",
       "      <td>2</td>\n",
       "    </tr>\n",
       "    <tr>\n",
       "      <th>2</th>\n",
       "      <td>5</td>\n",
       "      <td>Browser #4</td>\n",
       "      <td>exp</td>\n",
       "      <td>29</td>\n",
       "      <td>35</td>\n",
       "      <td>16</td>\n",
       "    </tr>\n",
       "    <tr>\n",
       "      <th>3</th>\n",
       "      <td>6</td>\n",
       "      <td>Browser #4</td>\n",
       "      <td>control</td>\n",
       "      <td>12</td>\n",
       "      <td>6</td>\n",
       "      <td>0</td>\n",
       "    </tr>\n",
       "    <tr>\n",
       "      <th>4</th>\n",
       "      <td>7</td>\n",
       "      <td>Browser #4</td>\n",
       "      <td>exp</td>\n",
       "      <td>54</td>\n",
       "      <td>68</td>\n",
       "      <td>30</td>\n",
       "    </tr>\n",
       "  </tbody>\n",
       "</table>\n",
       "</div>"
      ],
      "text/plain": [
       "   userID     browser     slot  n_clicks  n_queries  n_nonclk_queries\n",
       "0       1  Browser #2      exp        23         32                19\n",
       "1       3  Browser #4      exp         3          4                 2\n",
       "2       5  Browser #4      exp        29         35                16\n",
       "3       6  Browser #4  control        12          6                 0\n",
       "4       7  Browser #4      exp        54         68                30"
      ]
     },
     "execution_count": 2,
     "metadata": {},
     "output_type": "execute_result"
    }
   ],
   "source": [
    "data = pd.read_csv('ab_browser_test.csv')\n",
    "data.head()"
   ]
  },
  {
   "cell_type": "code",
   "execution_count": 10,
   "metadata": {},
   "outputs": [
    {
     "data": {
      "text/plain": [
       "1.614"
      ]
     },
     "execution_count": 10,
     "metadata": {},
     "output_type": "execute_result"
    }
   ],
   "source": [
    "# 1\n",
    "\n",
    "round(data[data['slot'] == 'exp']['n_clicks'].sum() / data[data['slot'] == 'control']['n_clicks'].sum() * 100 - 100, 3)"
   ]
  },
  {
   "cell_type": "code",
   "execution_count": 16,
   "metadata": {},
   "outputs": [],
   "source": [
    "# 2\n",
    "\n",
    "def get_bootstrap_samples(data, n_samples):\n",
    "    indices = np.random.randint(0, len(data), (n_samples, len(data)))\n",
    "    samples = data[indices]\n",
    "    return samples\n",
    "\n",
    "def stat_intervals(stat, alpha):\n",
    "    boundaries = np.percentile(stat, [100 * alpha / 2., 100 * (1 - alpha / 2.)])\n",
    "    return boundaries"
   ]
  },
  {
   "cell_type": "code",
   "execution_count": 17,
   "metadata": {},
   "outputs": [],
   "source": [
    "exp_median_scores = np.median(get_bootstrap_samples(data[data['slot'] == 'exp']['n_clicks'].values, 1000), axis = 1)\n",
    "control_median_scores = np.median(get_bootstrap_samples(data[data['slot'] == 'control']['n_clicks'].values, 1000), axis = 1)"
   ]
  },
  {
   "cell_type": "code",
   "execution_count": 23,
   "metadata": {},
   "outputs": [
    {
     "data": {
      "text/plain": [
       "array([1., 1.])"
      ]
     },
     "execution_count": 23,
     "metadata": {},
     "output_type": "execute_result"
    }
   ],
   "source": [
    "stat_intervals(exp_median_scores - control_median_scores, 0.05)"
   ]
  },
  {
   "cell_type": "code",
   "execution_count": 18,
   "metadata": {},
   "outputs": [],
   "source": [
    "exp_mean_scores = np.mean(get_bootstrap_samples(data[data['slot'] == 'exp']['n_clicks'].values, 1000), axis = 1)\n",
    "control_mean_scores = np.mean(get_bootstrap_samples(data[data['slot'] == 'control']['n_clicks'].values, 1000), axis = 1)"
   ]
  },
  {
   "cell_type": "code",
   "execution_count": 24,
   "metadata": {},
   "outputs": [
    {
     "data": {
      "text/plain": [
       "array([0.19795943, 0.40618774])"
      ]
     },
     "execution_count": 24,
     "metadata": {},
     "output_type": "execute_result"
    }
   ],
   "source": [
    "stat_intervals(exp_mean_scores - control_mean_scores, 0.05)"
   ]
  },
  {
   "cell_type": "code",
   "execution_count": 27,
   "metadata": {},
   "outputs": [
    {
     "data": {
      "image/png": "[encoded data removed]",
      "text/plain": [
       "<Figure size 432x288 with 1 Axes>"
      ]
     },
     "metadata": {
      "needs_background": "light"
     },
     "output_type": "display_data"
    }
   ],
   "source": [
    "# 3\n",
    "\n",
    "plt.hist(data[data['slot'] == 'exp']['n_clicks'].values, bins=40, alpha=0.5, label='No default', density=True)\n",
    "plt.hist(data[data['slot'] == 'control']['n_clicks'].values, bins=40, alpha=0.5, label='Default', density=True)\n",
    "plt.legend(loc='upper right')\n",
    "plt.show()"
   ]
  },
  {
   "cell_type": "code",
   "execution_count": 30,
   "metadata": {},
   "outputs": [
    {
     "data": {
      "text/plain": [
       "566134"
      ]
     },
     "execution_count": 30,
     "metadata": {},
     "output_type": "execute_result"
    }
   ],
   "source": [
    "len(data)"
   ]
  },
  {
   "cell_type": "code",
   "execution_count": 37,
   "metadata": {},
   "outputs": [],
   "source": [
    "# 4\n",
    "\n",
    "np.random.seed(0)\n",
    "n_boot_samples = 500\n",
    "\n",
    "pseudo_samples = get_bootstrap_samples(data[data['slot'] == 'control']['n_clicks'].values, 1000)\n",
    "\n",
    "means = np.mean(pseudo_samples, axis=1)\n",
    "squares = np.apply_along_axis(lambda arr: np.sum((np.array(arr) - np.mean(arr))** 2), arr=pseudo_samples, axis=1)\n"
   ]
  },
  {
   "cell_type": "code",
   "execution_count": 35,
   "metadata": {},
   "outputs": [
    {
     "data": {
      "text/plain": [
       "array([150822288, 155230783, 155210874, 155821404, 150123405, 154870986,\n",
       "       152169440, 155320592, 149368856, 153400075, 154562708, 152394036,\n",
       "       153126523, 154637630, 152523766, 155441064, 153868881, 151518785,\n",
       "       150764727, 149438069, 150207653, 155546612, 152848233, 153684711,\n",
       "       155044718, 150345558, 154569519, 152201172, 154818733, 152007739,\n",
       "       154443830, 155036728, 154000457, 153474811, 156196014, 152379707,\n",
       "       153983872, 152616362, 155058530, 155382447, 152102878, 156314992,\n",
       "       153433624, 151674368, 153002168, 153464556, 154550195, 152187389,\n",
       "       151782810, 154316549, 149252029, 154735300, 153063405, 150979400,\n",
       "       154599967, 155884274, 152296592, 153411998, 155237810, 154923960,\n",
       "       151799605, 155310369, 151770084, 151235349, 152156271, 151949308,\n",
       "       151350133, 154358019, 152637967, 153844530, 150658437, 154343106,\n",
       "       151292359, 154017286, 150669323, 157626987, 154803163, 153365260,\n",
       "       150748781, 155747363, 152883741, 152615563, 151764307, 153246658,\n",
       "       154115768, 153401301, 154269028, 151121335, 154685177, 152347666,\n",
       "       154333797, 156482839, 155714349, 152746279, 151942697, 156074711,\n",
       "       157402909, 153566119, 154264242, 153569545, 151967860, 155054656,\n",
       "       157239394, 152915651, 154254542, 153547993, 153928544, 151047350,\n",
       "       154272813, 151873619, 154926959, 150693334, 155088357, 152059344,\n",
       "       152931333, 153439637, 153322611, 154718909, 153655049, 154944662,\n",
       "       150802101, 151449305, 157856859, 154799449, 152875534, 154952882,\n",
       "       153411076, 150076162, 154104816, 148950781, 152745849, 153072585,\n",
       "       150894855, 155921309, 152116978, 152393162, 155070148, 154967536,\n",
       "       149965946, 156425484, 150172504, 150531343, 151894797, 153475924,\n",
       "       153912661, 150707202, 153896271, 154813028, 152222548, 151525941,\n",
       "       153488281, 155305057, 157087389, 151497137, 155283717, 154144987,\n",
       "       150338983, 154945838, 153192985, 156430316, 153567364, 153920195,\n",
       "       151231657, 148218119, 152466150, 155081450, 155353702, 151471680,\n",
       "       152349412, 152892835, 154456614, 150725098, 152880091, 150884870,\n",
       "       152806020, 153623255, 153547313, 155047827, 152864393, 151977296,\n",
       "       151098324, 153776742, 152806927, 152789822, 158483894, 150934651,\n",
       "       151400850, 153090178, 153400802, 154277394, 153321867, 151641779,\n",
       "       152422235, 152098933, 154937058, 152306300, 152702934, 153541947,\n",
       "       152647503, 152284878, 153185003, 153290008, 152540447, 154821035,\n",
       "       154625962, 153887579, 156490421, 150811388, 152170506, 157985362,\n",
       "       153224271, 154969854, 154558921, 149593285, 156440977, 151832875,\n",
       "       153054324, 156560000, 154584671, 151971700, 151054559, 155238926,\n",
       "       153836080, 152328294, 153334120, 150739379, 154384688, 153568465,\n",
       "       154500319, 150756479, 154642559, 152572865, 153729851, 153790183,\n",
       "       149268218, 155074424, 153765347, 152232403, 152775693, 154190282,\n",
       "       155421311, 151836789, 152781319, 154017865, 153159386, 150857368,\n",
       "       153204007, 153240195, 154697929, 150843117, 152731951, 154728173,\n",
       "       154677452, 149643540, 153660254, 152103943, 152667993, 156031521,\n",
       "       150304850, 150735861, 154366189, 155047174, 152820204, 157243904,\n",
       "       154258336, 153372046, 154303723, 152384964, 152169990, 152189485,\n",
       "       157968710, 154701860, 154180314, 150638801, 152560773, 152371768,\n",
       "       152448562, 152628798, 149437728, 148922819, 151590573, 155442592,\n",
       "       152599515, 151960715, 152187273, 154839451, 155061343, 152074314,\n",
       "       150516456, 153830226, 153848498, 154350433, 154729606, 153308591,\n",
       "       154493977, 156266864, 151503807, 151208254, 151803847, 151818822,\n",
       "       155031980, 156523703, 149244694, 153676670, 153003959, 154972464,\n",
       "       153556377, 152797509, 153713325, 157078799, 155818974, 154163080,\n",
       "       153226418, 154007647, 153651961, 154669260, 151831158, 151657201,\n",
       "       155590570, 153535602, 155988743, 153029365, 151057168, 154543682,\n",
       "       154754676, 152263539, 155120124, 153780978, 150055429, 149523707,\n",
       "       152536603, 153106509, 149207633, 154213794, 153782150, 149819386,\n",
       "       156242768, 154319785, 158568472, 160348522, 154473014, 150828319,\n",
       "       154320092, 159328864, 152458392, 153782523, 150459559, 152268690,\n",
       "       153172027, 151878548, 152821584, 154797832, 155013521, 151826275,\n",
       "       150877126, 152213708, 157524312, 154237746, 149566107, 149771433,\n",
       "       151235547, 154029412, 157205640, 151091249, 152952077, 152429335,\n",
       "       153689815, 153844532, 155488045, 150123638, 151744496, 155422402,\n",
       "       152719076, 151577890, 150825435, 153861869, 149956064, 154003319,\n",
       "       152405024, 154702280, 154244670, 156306307, 156324864, 151719909,\n",
       "       155399654, 150666391, 153129794, 150499051, 157908861, 152052218,\n",
       "       155750140, 152696296, 153064073, 154159323, 152531187, 150637773,\n",
       "       155258206, 153055702, 153266877, 157847087, 153897159, 154431851,\n",
       "       152252165, 152803768, 154307270, 154333528, 153912696, 150071250,\n",
       "       151161817, 152528803, 151948112, 151711411, 153299066, 156217650,\n",
       "       153492888, 154339276, 155006511, 151441326, 151716269, 158217237,\n",
       "       154715308, 152800813, 155198163, 154763942, 150345369, 151199126,\n",
       "       154506365, 153321359, 151440079, 152109293, 156314258, 151396761,\n",
       "       152394999, 153818354, 155761393, 153804371, 156630096, 151417051,\n",
       "       155196471, 152895436, 153117711, 154266440, 155070341, 157220030,\n",
       "       155461837, 153637647, 158319953, 147140440, 156441349, 154909710,\n",
       "       156803575, 153631120, 153528398, 151646872, 151788083, 153258018,\n",
       "       158444586, 149870694, 151003508, 152699917, 148820392, 156305018,\n",
       "       152329563, 154679701, 155420629, 155109735, 149289378, 154469453,\n",
       "       152570669, 151830823, 156409908, 154862084, 153060742, 152909496,\n",
       "       156319062, 159219449, 151200652, 153700220, 154579370, 153621610,\n",
       "       152300984, 152888012, 151870054, 155131333, 156629031, 152797985,\n",
       "       153584368, 147297877, 156749439, 155686822, 150644717, 152299940,\n",
       "       154772701, 152595746, 154391970, 153467120, 151281982, 154770321,\n",
       "       150234029, 153264285, 150540951, 151321429, 153314996, 155820888,\n",
       "       153058040, 152561995, 152051705, 154134676, 153692185, 152928367,\n",
       "       156369948, 152904948, 152560642, 150408817, 153790803, 154986759,\n",
       "       154057591, 154286913, 153874936, 152282347, 152532690, 154713903,\n",
       "       151830250, 157143243, 156769277, 156434808, 155051958, 152945506,\n",
       "       156431288, 152099669, 154090590, 152004713, 153236511, 153103855,\n",
       "       151445599, 153671738, 153030521, 154086744, 154564338, 151248483,\n",
       "       153971461, 151572186, 152826214, 154491862, 153263511, 154234979,\n",
       "       153784820, 150224496, 154362659, 154847208, 152156481, 150138729,\n",
       "       154163263, 155544721, 153290638, 153680177, 150870118, 153076447,\n",
       "       152940198, 151287280, 151365605, 154140598, 156515673, 154200874,\n",
       "       150735958, 157126079, 152635899, 151583565, 155419323, 155158356,\n",
       "       152432697, 151705058, 153478897, 155260714, 150419181, 151879417,\n",
       "       151995701, 153129086, 151279375, 153411028, 153293600, 154195760,\n",
       "       156108442, 153322821, 155845432, 152886571, 155944832, 153489000,\n",
       "       155183425, 153369316, 153007957, 150275528, 152852538, 158024992,\n",
       "       152949271, 149129221, 153971921, 151500992, 153540639, 153539770,\n",
       "       151354049, 154754984, 153302384, 150192404, 153676959, 153950406,\n",
       "       155446488, 153469709, 148623358, 153373840, 155153040, 155005906,\n",
       "       153152318, 153043440, 153384919, 157864551, 151814256, 151339285,\n",
       "       151224159, 152800990, 153516039, 149224999, 153840478, 154432587,\n",
       "       153324532, 154886167, 155109392, 155332396, 154217118, 154215426,\n",
       "       155947183, 152524989, 155095802, 150135927, 151918622, 155498805,\n",
       "       151891878, 153630092, 152458426, 153597815, 153978926, 151467410,\n",
       "       152787908, 155438959, 154815520, 154432182, 150534559, 155199830,\n",
       "       151258533, 149638997, 152742073, 152401154, 152524802, 154074470,\n",
       "       148978047, 157476725, 152871415, 151502555, 155463362, 152407903,\n",
       "       151823672, 154215121, 155126260, 151244509, 154152166, 152944986,\n",
       "       153001092, 150940420, 155005973, 153303206, 153135747, 155907404,\n",
       "       158038150, 158121578, 148596226, 151993550, 154346577, 155258209,\n",
       "       150906767, 153681583, 151300314, 155561851, 154662729, 154641345,\n",
       "       154171000, 153486236, 150830211, 154774895, 153962619, 152226213,\n",
       "       153826597, 153419236, 157142821, 153362276, 151727596, 152384984,\n",
       "       150775720, 149867813, 154472376, 154355052, 152502758, 151918572,\n",
       "       153109560, 151275919, 156169637, 152157427, 156660743, 150201377,\n",
       "       154325607, 156171216, 154649102, 149646572, 152337623, 153766419,\n",
       "       153484625, 151714278, 153893933, 149730360, 155800231, 153681071,\n",
       "       149921801, 155427010, 152844475, 151595744, 150647568, 157138552,\n",
       "       153347074, 152694650, 155771681, 153793333, 153617069, 154930458,\n",
       "       158074839, 152372334, 150689132, 151212639, 154926791, 155135942,\n",
       "       154568615, 157961827, 151977578, 149110491, 152653077, 152394276,\n",
       "       154109006, 153636719, 153823135, 151596785, 155511206, 151331687,\n",
       "       156085216, 155481692, 151780173, 150867436, 157379564, 154282508,\n",
       "       151269030, 152202179, 152705628, 153424600, 153066526, 152987524,\n",
       "       151515215, 156151670, 153116408, 150708808, 150223302, 153006153,\n",
       "       155111243, 154731364, 152522017, 156374738, 151515799, 151200228,\n",
       "       152768596, 157995405, 152487964, 151736907, 152104952, 157101753,\n",
       "       152466482, 153249858, 156261481, 154016683, 157114964, 151489447,\n",
       "       154512223, 150408862, 154058867, 156417071, 150562298, 156590224,\n",
       "       151348082, 155390110, 152789300, 153706311, 151514834, 154558124,\n",
       "       153563822, 152422532, 150758493, 157485827, 150755524, 160207406,\n",
       "       151431584, 153292526, 151782889, 155986805, 156266721, 154201177,\n",
       "       152863185, 155284909, 153840044, 153486801, 155068301, 153365035,\n",
       "       151862821, 151998995, 155465738, 153855908, 154958267, 153218058,\n",
       "       150475222, 152173682, 154374533, 154896748, 151328570, 155231597,\n",
       "       152530668, 151886281, 153542287, 152876742, 152425766, 153494287,\n",
       "       147375432, 153837204, 149496517, 152407671, 154374603, 154552928,\n",
       "       150054447, 152523861, 154799261, 152586021, 152166244, 157152164,\n",
       "       161215145, 154745639, 152659737, 155449365, 154028651, 153349848,\n",
       "       151190188, 154559715, 154024112, 152569660, 152154762, 151332241,\n",
       "       152219427, 155334159, 153581419, 155592842, 156573486, 152893920,\n",
       "       152706817, 153238080, 148617076, 151044032, 150701078, 149109824,\n",
       "       153361292, 150335329, 154642834, 152661354, 150056362, 156596238,\n",
       "       152502152, 148820707, 151666838, 150036062, 153525405, 154505150,\n",
       "       152418508, 155450310, 150074646, 152739708, 153221064, 155543245,\n",
       "       155100926, 156159411, 153076589, 154034392, 152853052, 156171287,\n",
       "       153211016, 152608140, 153130464, 152194721, 155302020, 156281024,\n",
       "       152605375, 151687317, 151225718, 155985433, 154620876, 151699557,\n",
       "       154155941, 149564777, 154941005, 153962054, 153615214, 154018391,\n",
       "       151148691, 153384056, 154339768, 148792175, 150392071, 155967091,\n",
       "       151166535, 155277080, 152617994, 155831162, 151943452, 152318467,\n",
       "       153363887, 151876732, 149109978, 151844460, 152063180, 155912334,\n",
       "       149635214, 154138030, 155077311, 153881931, 157339573, 150794590,\n",
       "       150840431, 154948561, 155156946, 150056106, 153676673, 156649357,\n",
       "       155745847, 154873765, 154507865, 155004173, 150825436, 150679374,\n",
       "       154161163, 155418944, 154406361, 155739905, 150573155, 155590967,\n",
       "       152200630, 154623655, 154623033, 152913346, 155218214, 152874637,\n",
       "       152630067, 154849364, 153279987, 153153694, 155686002, 151339376,\n",
       "       149448477, 153758205, 153110302, 152029480, 152079039, 154534122,\n",
       "       154726060, 152625066, 154696321, 153757689, 153003791, 152927326,\n",
       "       152892016, 149869766, 153248591, 154200207, 151763264, 159916004,\n",
       "       155414736, 152478327, 153905322, 153528285, 150635847, 152440072,\n",
       "       151305463, 149839261, 154239618, 154197768, 154304910, 150038910,\n",
       "       154314601, 154951713, 152805409, 151028000])"
      ]
     },
     "execution_count": 35,
     "metadata": {},
     "output_type": "execute_result"
    }
   ],
   "source": [
    "squares"
   ]
  },
  {
   "cell_type": "code",
   "execution_count": 64,
   "metadata": {},
   "outputs": [
    {
     "data": {
      "text/plain": [
       "0.9981679505786599"
      ]
     },
     "execution_count": 64,
     "metadata": {},
     "output_type": "execute_result"
    },
    {
     "data": {
      "image/png": "[encoded data removed]",
      "text/plain": [
       "<Figure size 432x288 with 1 Axes>"
      ]
     },
     "metadata": {
      "needs_background": "light"
     },
     "output_type": "display_data"
    }
   ],
   "source": [
    "scipy.stats.probplot(means, plot=plt)[1][2] ** 2"
   ]
  },
  {
   "cell_type": "code",
   "execution_count": 63,
   "metadata": {},
   "outputs": [
    {
     "data": {
      "text/plain": [
       "0.9967833184064069"
      ]
     },
     "execution_count": 63,
     "metadata": {},
     "output_type": "execute_result"
    },
    {
     "data": {
      "image/png": "[encoded data removed]",
      "text/plain": [
       "<Figure size 432x288 with 1 Axes>"
      ]
     },
     "metadata": {
      "needs_background": "light"
     },
     "output_type": "display_data"
    }
   ],
   "source": [
    "scipy.stats.probplot(squares, dist='chi2', sparams=pseudo_samples.shape[1] - 1, plot=plt)[1][2] ** 2"
   ]
  },
  {
   "cell_type": "code",
   "execution_count": 65,
   "metadata": {},
   "outputs": [
    {
     "data": {
      "text/plain": [
       "MannwhitneyuResult(statistic=38940590204.0, pvalue=3.1236179006848145e-75)"
      ]
     },
     "execution_count": 65,
     "metadata": {},
     "output_type": "execute_result"
    }
   ],
   "source": [
    "# 5\n",
    "\n",
    "scipy.stats.mannwhitneyu(data[data['slot'] == 'exp']['n_clicks'], data[data['slot'] == 'control']['n_clicks'])"
   ]
  },
  {
   "cell_type": "code",
   "execution_count": 78,
   "metadata": {},
   "outputs": [],
   "source": [
    "p_values = []\n",
    "for brwsr in data['browser'].unique():\n",
    "    p_values.append(scipy.stats.mannwhitneyu(\n",
    "                data[(data['slot'] == 'exp') & (data['browser'] == brwsr)]['n_clicks'], \n",
    "                data[(data['slot'] == 'control') & (data['browser'] == brwsr)]['n_clicks'])[1])"
   ]
  },
  {
   "cell_type": "code",
   "execution_count": 80,
   "metadata": {},
   "outputs": [
    {
     "data": {
      "text/plain": [
       "[0.0272438604197241,\n",
       " 0.40760617658454984,\n",
       " 0.0,\n",
       " 0.03740060143010802,\n",
       " 0.45366656388735377,\n",
       " 0.2574055152210032]"
      ]
     },
     "execution_count": 80,
     "metadata": {},
     "output_type": "execute_result"
    }
   ],
   "source": [
    "p_values"
   ]
  },
  {
   "cell_type": "code",
   "execution_count": 81,
   "metadata": {},
   "outputs": [
    {
     "data": {
      "text/plain": [
       "(array([False, False,  True, False, False, False]),\n",
       " array([0.1362193 , 0.81521235, 0.        , 0.14960241, 0.81521235,\n",
       "        0.77221655]),\n",
       " 0.008512444610847103,\n",
       " 0.008333333333333333)"
      ]
     },
     "execution_count": 81,
     "metadata": {},
     "output_type": "execute_result"
    }
   ],
   "source": [
    "import statsmodels.stats.multitest as smm\n",
    "\n",
    "mod = smm.multipletests(p_values, \n",
    "                        alpha = 0.05, \n",
    "                        method = 'holm')\n",
    "mod"
   ]
  },
  {
   "cell_type": "code",
   "execution_count": 75,
   "metadata": {},
   "outputs": [
    {
     "name": "stdout",
     "output_type": "stream",
     "text": [
      "4.061686009793957\n",
      "7.521650522724954\n",
      "2.037417125303559\n",
      "1.27880646926401\n",
      "1.2027509810515395\n",
      "4.8799580442601425\n"
     ]
    }
   ],
   "source": [
    "# 7\n",
    "for brwsr in data['browser'].unique():\n",
    "    print(data[(data['slot'] == 'exp') & (data['browser'] == brwsr)]['n_nonclk_queries'].sum() / data['n_queries'].sum() * 100)"
   ]
  },
  {
   "cell_type": "code",
   "execution_count": 76,
   "metadata": {},
   "outputs": [
    {
     "name": "stdout",
     "output_type": "stream",
     "text": [
      "4.28815539572992\n",
      "8.209478168071096\n",
      "2.6568673278243633\n",
      "1.2495277425409683\n",
      "1.2941955130227722\n",
      "5.197839009182843\n"
     ]
    }
   ],
   "source": [
    "for brwsr in data['browser'].unique():\n",
    "    print(data[(data['slot'] == 'control') & (data['browser'] == brwsr)]['n_nonclk_queries'].sum() / data['n_queries'].sum() * 100)"
   ]
  },
  {
   "cell_type": "code",
   "execution_count": null,
   "metadata": {},
   "outputs": [],
   "source": []
  }
 ],
 "metadata": {
  "kernelspec": {
   "display_name": "Python 3",
   "language": "python",
   "name": "python3"
  },
  "language_info": {
   "codemirror_mode": {
    "name": "ipython",
    "version": 3
   },
   "file_extension": ".py",
   "mimetype": "text/x-python",
   "name": "python",
   "nbconvert_exporter": "python",
   "pygments_lexer": "ipython3",
   "version": "3.6.8"
  }
 },
 "nbformat": 4,
 "nbformat_minor": 2
}
