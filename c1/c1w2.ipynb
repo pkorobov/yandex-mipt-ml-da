{
 "cells": [
  {
   "cell_type": "code",
   "execution_count": 130,
   "metadata": {},
   "outputs": [],
   "source": [
    "import re\n",
    "import numpy as np\n",
    "import scipy.spatial.distance as dst\n",
    "import matplotlib.pyplot as plt"
   ]
  },
  {
   "cell_type": "code",
   "execution_count": 261,
   "metadata": {},
   "outputs": [],
   "source": [
    "sentences_lower = []\n",
    "with open('sentences.txt', 'r') as sentences:\n",
    "    for line in sentences:\n",
    "        sentences_lower.append(line.strip().lower())"
   ]
  },
  {
   "cell_type": "code",
   "execution_count": 262,
   "metadata": {},
   "outputs": [],
   "source": [
    "sentences_splitted = []\n",
    "for line in sentences_lower:\n",
    "    sentences_splitted.append(filter(lambda x: x != '', re.split('[^a-z]', line)))"
   ]
  },
  {
   "cell_type": "code",
   "execution_count": 263,
   "metadata": {},
   "outputs": [],
   "source": [
    "all_words = set([elem for words in sentences_splitted for elem in words])\n",
    "m = {}\n",
    "d = len(all_words)\n",
    "for word, value in zip(all_words, xrange(d)):\n",
    "    m[word] = value"
   ]
  },
  {
   "cell_type": "code",
   "execution_count": 264,
   "metadata": {},
   "outputs": [],
   "source": [
    "n = len(sentences_splitted)\n",
    "mat = np.zeros((n, d))\n",
    "for i in range(n):\n",
    "    for word in sentences_splitted[i]:\n",
    "        mat[i][m[word]] += 1"
   ]
  },
  {
   "cell_type": "code",
   "execution_count": 266,
   "metadata": {},
   "outputs": [],
   "source": [
    "dists = []\n",
    "for i in range(1, n):\n",
    "    dists.append(dst.cosine(mat[0], mat[i]))"
   ]
  },
  {
   "cell_type": "code",
   "execution_count": 273,
   "metadata": {},
   "outputs": [],
   "source": [
    "a = zip(dists, range(1, n))\n",
    "a.sort()"
   ]
  },
  {
   "cell_type": "code",
   "execution_count": 274,
   "metadata": {},
   "outputs": [
    {
     "data": {
      "text/plain": [
       "[(0.7327387580875756, 6),\n",
       " (0.7770887149698589, 4),\n",
       " (0.8250364469440588, 21),\n",
       " (0.8328165362273942, 10),\n",
       " (0.8396432548525454, 12)]"
      ]
     },
     "execution_count": 274,
     "metadata": {},
     "output_type": "execute_result"
    }
   ],
   "source": [
    "a[:5]"
   ]
  },
  {
   "cell_type": "code",
   "execution_count": 275,
   "metadata": {},
   "outputs": [
    {
     "data": {
      "text/plain": [
       "(0.7327387580875756, 0.7770887149698589)"
      ]
     },
     "execution_count": 275,
     "metadata": {},
     "output_type": "execute_result"
    }
   ],
   "source": [
    "dst.cosine(mat[0], mat[6]), dst.cosine(mat[0], mat[4])"
   ]
  },
  {
   "cell_type": "code",
   "execution_count": 276,
   "metadata": {},
   "outputs": [
    {
     "name": "stdout",
     "output_type": "stream",
     "text": [
      "6 4"
     ]
    }
   ],
   "source": [
    "!touch submission-1.txt\n",
    "with open('submission-1.txt', 'w') as f:\n",
    "    f.write(\"6 4\")\n",
    "!cat submission-1.txt"
   ]
  },
  {
   "cell_type": "code",
   "execution_count": 216,
   "metadata": {},
   "outputs": [],
   "source": [
    "def f(x):\n",
    "    return np.sin(x / 5) * np.exp(x / 10) + 5 * np.exp(-x / 2)\n",
    "\n",
    "def p(x, w):\n",
    "    value = 0;\n",
    "    i = 0;\n",
    "    for elem in w:\n",
    "        value += elem * x**i\n",
    "        i+=1\n",
    "    return value"
   ]
  },
  {
   "cell_type": "code",
   "execution_count": 217,
   "metadata": {},
   "outputs": [],
   "source": [
    "a, b = 1, 15"
   ]
  },
  {
   "cell_type": "code",
   "execution_count": 224,
   "metadata": {},
   "outputs": [],
   "source": [
    "xx = np.array([1.0, 4.0, 10.0, 15.0])"
   ]
  },
  {
   "cell_type": "code",
   "execution_count": 225,
   "metadata": {},
   "outputs": [],
   "source": [
    "A = np.zeros((4, 4))\n",
    "\n",
    "for i in range(4):\n",
    "    for j in range(4):\n",
    "        A[i][j] = xx[i] ** j\n",
    "\n",
    "c = f(xx)"
   ]
  },
  {
   "cell_type": "code",
   "execution_count": 226,
   "metadata": {},
   "outputs": [],
   "source": [
    "w = np.linalg.solve(A, c)"
   ]
  },
  {
   "cell_type": "code",
   "execution_count": 227,
   "metadata": {},
   "outputs": [],
   "source": [
    "res = []\n",
    "zz = np.linspace(a, b, 40)\n",
    "for x in xx:\n",
    "    res.append(p(x, w))"
   ]
  },
  {
   "cell_type": "code",
   "execution_count": 228,
   "metadata": {},
   "outputs": [
    {
     "data": {
      "text/plain": [
       "[<matplotlib.lines.Line2D at 0x7fa931f6b9d0>]"
      ]
     },
     "execution_count": 228,
     "metadata": {},
     "output_type": "execute_result"
    },
    {
     "data": {
      "image/png": "[encoded data removed]",
      "text/plain": [
       "<matplotlib.figure.Figure at 0x7fa932095810>"
      ]
     },
     "metadata": {},
     "output_type": "display_data"
    }
   ],
   "source": [
    "plt.figure()\n",
    "plt.plot(xx, res)\n",
    "plt.plot(zz, f(zz))"
   ]
  },
  {
   "cell_type": "code",
   "execution_count": 229,
   "metadata": {},
   "outputs": [
    {
     "name": "stdout",
     "output_type": "stream",
     "text": [
      "4.362641535118072 -1.2955258656948436 0.1933368470215116 -0.008235651173320552"
     ]
    }
   ],
   "source": [
    "!touch submission-2.txt\n",
    "with open('submission-2.txt', 'w') as f:\n",
    "    f.write(\" \".join(map(str, w)))\n",
    "!cat submission-2.txt"
   ]
  },
  {
   "cell_type": "code",
   "execution_count": null,
   "metadata": {},
   "outputs": [],
   "source": []
  }
 ],
 "metadata": {
  "kernelspec": {
   "display_name": "Python 2",
   "language": "python",
   "name": "python2"
  },
  "language_info": {
   "codemirror_mode": {
    "name": "ipython",
    "version": 2
   },
   "file_extension": ".py",
   "mimetype": "text/x-python",
   "name": "python",
   "nbconvert_exporter": "python",
   "pygments_lexer": "ipython2",
   "version": "2.7.14"
  }
 },
 "nbformat": 4,
 "nbformat_minor": 2
}
