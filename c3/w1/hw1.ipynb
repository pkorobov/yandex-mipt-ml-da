{
 "cells": [
  {
   "cell_type": "code",
   "execution_count": 148,
   "metadata": {},
   "outputs": [],
   "source": [
    "import pandas as pd\n",
    "import numpy as np\n",
    "from sklearn.cluster import MeanShift"
   ]
  },
  {
   "cell_type": "code",
   "execution_count": 149,
   "metadata": {},
   "outputs": [
    {
     "name": "stderr",
     "output_type": "stream",
     "text": [
      "/home/pavel/anaconda3/lib/python3.7/site-packages/IPython/core/interactiveshell.py:3020: DtypeWarning: Columns (0) have mixed types. Specify dtype option on import or set low_memory=False.\n",
      "  interactivity=interactivity, compiler=compiler, result=result)\n"
     ]
    }
   ],
   "source": [
    "df = pd.read_table('checkins.dat', sep='|', skipinitialspace = True, header=[0], skiprows=[1],)\n",
    "df = df.dropna(axis='rows').reset_index(drop=True)"
   ]
  },
  {
   "cell_type": "code",
   "execution_count": 150,
   "metadata": {},
   "outputs": [
    {
     "data": {
      "text/html": [
       "<div>\n",
       "<style scoped>\n",
       "    .dataframe tbody tr th:only-of-type {\n",
       "        vertical-align: middle;\n",
       "    }\n",
       "\n",
       "    .dataframe tbody tr th {\n",
       "        vertical-align: top;\n",
       "    }\n",
       "\n",
       "    .dataframe thead th {\n",
       "        text-align: right;\n",
       "    }\n",
       "</style>\n",
       "<table border=\"1\" class=\"dataframe\">\n",
       "  <thead>\n",
       "    <tr style=\"text-align: right;\">\n",
       "      <th></th>\n",
       "      <th>id</th>\n",
       "      <th>user_id</th>\n",
       "      <th>venue_id</th>\n",
       "      <th>latitude</th>\n",
       "      <th>longitude</th>\n",
       "      <th>created_at</th>\n",
       "    </tr>\n",
       "  </thead>\n",
       "  <tbody>\n",
       "    <tr>\n",
       "      <th>0</th>\n",
       "      <td>984222</td>\n",
       "      <td>15824.0</td>\n",
       "      <td>5222.0</td>\n",
       "      <td>38.895112</td>\n",
       "      <td>-77.036366</td>\n",
       "      <td>2012-04-21 17:43:47</td>\n",
       "    </tr>\n",
       "    <tr>\n",
       "      <th>1</th>\n",
       "      <td>984234</td>\n",
       "      <td>44652.0</td>\n",
       "      <td>5222.0</td>\n",
       "      <td>33.800745</td>\n",
       "      <td>-84.410520</td>\n",
       "      <td>2012-04-21 17:43:43</td>\n",
       "    </tr>\n",
       "    <tr>\n",
       "      <th>2</th>\n",
       "      <td>984291</td>\n",
       "      <td>105054.0</td>\n",
       "      <td>5222.0</td>\n",
       "      <td>45.523452</td>\n",
       "      <td>-122.676207</td>\n",
       "      <td>2012-04-21 17:39:22</td>\n",
       "    </tr>\n",
       "    <tr>\n",
       "      <th>3</th>\n",
       "      <td>984318</td>\n",
       "      <td>2146539.0</td>\n",
       "      <td>5222.0</td>\n",
       "      <td>40.764462</td>\n",
       "      <td>-111.904565</td>\n",
       "      <td>2012-04-21 17:35:46</td>\n",
       "    </tr>\n",
       "    <tr>\n",
       "      <th>4</th>\n",
       "      <td>984232</td>\n",
       "      <td>93870.0</td>\n",
       "      <td>380645.0</td>\n",
       "      <td>33.448377</td>\n",
       "      <td>-112.074037</td>\n",
       "      <td>2012-04-21 17:38:18</td>\n",
       "    </tr>\n",
       "  </tbody>\n",
       "</table>\n",
       "</div>"
      ],
      "text/plain": [
       "   id       user_id   venue_id   latitude        longitude       \\\n",
       "0  984222    15824.0     5222.0       38.895112      -77.036366   \n",
       "1  984234    44652.0     5222.0       33.800745      -84.410520   \n",
       "2  984291   105054.0     5222.0       45.523452     -122.676207   \n",
       "3  984318  2146539.0     5222.0       40.764462     -111.904565   \n",
       "4  984232    93870.0   380645.0       33.448377     -112.074037   \n",
       "\n",
       "      created_at        \n",
       "0  2012-04-21 17:43:47  \n",
       "1  2012-04-21 17:43:43  \n",
       "2  2012-04-21 17:39:22  \n",
       "3  2012-04-21 17:35:46  \n",
       "4  2012-04-21 17:38:18  "
      ]
     },
     "execution_count": 150,
     "metadata": {},
     "output_type": "execute_result"
    }
   ],
   "source": [
    "df.head()"
   ]
  },
  {
   "cell_type": "code",
   "execution_count": 151,
   "metadata": {},
   "outputs": [
    {
     "data": {
      "text/plain": [
       "Index(['id', 'user_id', 'venue_id', 'latitude', 'longitude', 'created_at'], dtype='object')"
      ]
     },
     "execution_count": 151,
     "metadata": {},
     "output_type": "execute_result"
    }
   ],
   "source": [
    "df.columns = map(lambda x: x.strip(), df.columns)\n",
    "df.columns"
   ]
  },
  {
   "cell_type": "code",
   "execution_count": 94,
   "metadata": {},
   "outputs": [
    {
     "data": {
      "text/plain": [
       "MeanShift(bandwidth=0.1, bin_seeding=False, cluster_all=True, min_bin_freq=1,\n",
       "     n_jobs=None, seeds=None)"
      ]
     },
     "execution_count": 94,
     "metadata": {},
     "output_type": "execute_result"
    }
   ],
   "source": [
    "#обучаем алгоритм\n",
    "ms = MeanShift(bandwidth=0.1)\n",
    "ms.fit(df[['latitude', 'longitude']].iloc[:100000,])"
   ]
  },
  {
   "cell_type": "code",
   "execution_count": 95,
   "metadata": {},
   "outputs": [],
   "source": [
    "labels = ms.labels_\n",
    "cluster_centers = ms.cluster_centers_"
   ]
  },
  {
   "cell_type": "code",
   "execution_count": 152,
   "metadata": {},
   "outputs": [],
   "source": [
    "#делаем датасет с лейблами, чтобы отобрать кластеры с более чем 15 точками\n",
    "labeled_df = pd.concat([df[['latitude', 'longitude']].iloc[:100000,], pd.DataFrame(labels, columns=['label'])], axis = 1)\n",
    "big_clusters = labels_unique[labeled_df.groupby(['label']).count().iloc[:,0] > 15]"
   ]
  },
  {
   "cell_type": "code",
   "execution_count": 156,
   "metadata": {},
   "outputs": [
    {
     "data": {
      "text/plain": [
       "array([[  40.7177164 ,  -73.99183542],\n",
       "       [  33.44943805, -112.00213969],\n",
       "       [  33.44638027, -111.90188756],\n",
       "       [  41.87824378,  -87.62984336],\n",
       "       [  37.68868157, -122.40933037],\n",
       "       [  38.88616522,  -77.04878333],\n",
       "       [  33.35734456, -111.82265411],\n",
       "       [  33.76663623,  -84.39328918],\n",
       "       [  42.36321864,  -71.07368761],\n",
       "       [  47.60624472, -122.33204383]])"
      ]
     },
     "execution_count": 156,
     "metadata": {},
     "output_type": "execute_result"
    }
   ],
   "source": [
    "clusters = np.array(cluster_centers[big_clusters])\n",
    "clusters[:10]"
   ]
  },
  {
   "cell_type": "code",
   "execution_count": 154,
   "metadata": {},
   "outputs": [],
   "source": [
    "offices =  np.array([[33.751277, -118.188740],\n",
    "                     [25.867736, -80.324116],\n",
    "                     [51.503016, -0.075479],\n",
    "                     [52.378894, 4.885084],\n",
    "                     [39.366487, 117.036146],\n",
    "                     [-33.868457, 151.205134]])"
   ]
  },
  {
   "cell_type": "code",
   "execution_count": 155,
   "metadata": {},
   "outputs": [
    {
     "data": {
      "text/plain": [
       "[array([-33.86063043, 151.20477593]),\n",
       " array([52.37296399,  4.89231722]),\n",
       " array([ 25.84567226, -80.3188906 ]),\n",
       " array([51.50299126, -0.12553729]),\n",
       " array([  33.80987796, -118.14892381]),\n",
       " array([ 25.78581242, -80.21793804]),\n",
       " array([ 25.70534972, -80.28342874]),\n",
       " array([ 26.01009825, -80.19999059]),\n",
       " array([  33.88832534, -118.04892817]),\n",
       " array([  33.87298601, -118.36209115]),\n",
       " array([  33.97257482, -118.16837067]),\n",
       " array([ 26.13884379, -80.33434684]),\n",
       " array([  33.98393587, -118.00740497]),\n",
       " array([ 26.12086266, -80.15890668]),\n",
       " array([  33.81730643, -117.89124917]),\n",
       " array([  34.06039755, -118.24870903]),\n",
       " array([  33.67430266, -117.85878927]),\n",
       " array([ 26.20058464, -80.25071613]),\n",
       " array([  34.03548695, -118.43899772]),\n",
       " array([  34.13146015, -118.11801181])]"
      ]
     },
     "execution_count": 155,
     "metadata": {},
     "output_type": "execute_result"
    }
   ],
   "source": [
    "#находим ближайшие к офисам центры кластеров\n",
    "sorted(clusters, key = lambda x: np.min(np.linalg.norm(x - offices, axis=1)))[:20]"
   ]
  },
  {
   "cell_type": "code",
   "execution_count": null,
   "metadata": {},
   "outputs": [],
   "source": []
  },
  {
   "cell_type": "code",
   "execution_count": null,
   "metadata": {},
   "outputs": [],
   "source": []
  }
 ],
 "metadata": {
  "kernelspec": {
   "display_name": "Python 3",
   "language": "python",
   "name": "python3"
  },
  "language_info": {
   "codemirror_mode": {
    "name": "ipython",
    "version": 3
   },
   "file_extension": ".py",
   "mimetype": "text/x-python",
   "name": "python",
   "nbconvert_exporter": "python",
   "pygments_lexer": "ipython3",
   "version": "3.7.1"
  }
 },
 "nbformat": 4,
 "nbformat_minor": 2
}
